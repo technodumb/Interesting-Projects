{
 "metadata": {
  "language_info": {
   "codemirror_mode": {
    "name": "ipython",
    "version": 3
   },
   "file_extension": ".py",
   "mimetype": "text/x-python",
   "name": "python",
   "nbconvert_exporter": "python",
   "pygments_lexer": "ipython3",
   "version": "3.8.5-final"
  },
  "orig_nbformat": 2,
  "kernelspec": {
   "name": "python385jvsc74a57bd084b31f007b3245236355d6c2c6e7f9468fb2c6b4dcc30ba5981b05da62656cee",
   "display_name": "Python 3.8.5 64-bit (conda)"
  }
 },
 "nbformat": 4,
 "nbformat_minor": 2,
 "cells": [
  {
   "cell_type": "code",
   "execution_count": 1,
   "metadata": {},
   "outputs": [
    {
     "output_type": "execute_result",
     "data": {
      "text/plain": [
       "['.idea',\n",
       " '.ipynb_checkpoints',\n",
       " '.vscode',\n",
       " 'alphabet.npz',\n",
       " 'archive',\n",
       " 'archive.zip',\n",
       " 'image.ipynb',\n",
       " 'image_import.py',\n",
       " 'mnist.npz',\n",
       " 'neuralnetwork.py',\n",
       " 'neuralnetwork_copy.py',\n",
       " 'professional_way.py',\n",
       " 'program.py',\n",
       " 'program2.py',\n",
       " 'testfile.jpg',\n",
       " 'testnn.py',\n",
       " 'tftest.py',\n",
       " 'weightss_biases.npz',\n",
       " '__pycache__']"
      ]
     },
     "metadata": {},
     "execution_count": 1
    }
   ],
   "source": [
    "import os\n",
    "os.listdir()"
   ]
  },
  {
   "cell_type": "code",
   "execution_count": 1,
   "metadata": {},
   "outputs": [],
   "source": [
    "from numpy import array as narray\n",
    "from matplotlib.pyplot import imsave\n",
    "from time import sleep\n",
    "from pyautogui import screenshot\n",
    "\n"
   ]
  },
  {
   "cell_type": "code",
   "execution_count": 5,
   "metadata": {},
   "outputs": [],
   "source": [
    "for i in range(1000):\n",
    "    sleep(5)\n",
    "    imsave(f'pic{i}.jpg', narray(screenshot()))"
   ]
  },
  {
   "cell_type": "code",
   "execution_count": null,
   "metadata": {},
   "outputs": [],
   "source": []
  }
 ]
}